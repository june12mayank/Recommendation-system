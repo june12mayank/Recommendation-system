{
 "cells": [
  {
   "cell_type": "code",
   "execution_count": 1,
   "metadata": {},
   "outputs": [],
   "source": [
    "import pandas as pd\n",
    "import numpy as np\n",
    "import math"
   ]
  },
  {
   "cell_type": "code",
   "execution_count": 7,
   "metadata": {},
   "outputs": [],
   "source": [
    "Movies= pd.read_csv(\"C:\\Users\\Mayank\\Desktop\\data_scien\\Untitled Folder\\Content Based\\\\movies.csv\")\n",
    "Ratings = pd.read_csv(\"C:\\Users\\Mayank\\Desktop\\data_scien\\Untitled Folder\\Content Based\\\\ratings.csv\")\n",
    "Tags= pd.read_csv(\"C:\\Users\\Mayank\\Desktop\\data_scien\\Untitled Folder\\Content Based\\\\tags.csv\")"
   ]
  },
  {
   "cell_type": "code",
   "execution_count": 10,
   "metadata": {},
   "outputs": [
    {
     "ename": "KeyError",
     "evalue": "\"['tag_count_TF'] not in index\"",
     "output_type": "error",
     "traceback": [
      "\u001b[1;31m---------------------------------------------------------------------------\u001b[0m",
      "\u001b[1;31mKeyError\u001b[0m                                  Traceback (most recent call last)",
      "\u001b[1;32m<ipython-input-10-c581a1f912b9>\u001b[0m in \u001b[0;36m<module>\u001b[1;34m()\u001b[0m\n\u001b[0;32m      1\u001b[0m \u001b[1;31m# term frequency and inverse document frequency and tf-idf value\u001b[0m\u001b[1;33m\u001b[0m\u001b[1;33m\u001b[0m\u001b[0m\n\u001b[1;32m----> 2\u001b[1;33m \u001b[0mTF\u001b[0m\u001b[1;33m=\u001b[0m \u001b[0mTags\u001b[0m\u001b[1;33m.\u001b[0m\u001b[0mgroupby\u001b[0m\u001b[1;33m(\u001b[0m\u001b[1;33m[\u001b[0m\u001b[1;34m'movieId'\u001b[0m\u001b[1;33m,\u001b[0m\u001b[1;34m'tag'\u001b[0m\u001b[1;33m]\u001b[0m\u001b[1;33m,\u001b[0m\u001b[0mas_index\u001b[0m\u001b[1;33m=\u001b[0m\u001b[0mFalse\u001b[0m\u001b[1;33m,\u001b[0m\u001b[0msort\u001b[0m\u001b[1;33m=\u001b[0m\u001b[0mFalse\u001b[0m\u001b[1;33m)\u001b[0m\u001b[1;33m.\u001b[0m\u001b[0mcount\u001b[0m\u001b[1;33m(\u001b[0m\u001b[1;33m)\u001b[0m\u001b[1;33m.\u001b[0m\u001b[0mrename\u001b[0m\u001b[1;33m(\u001b[0m\u001b[0mcolumns\u001b[0m\u001b[1;33m=\u001b[0m\u001b[1;33m{\u001b[0m\u001b[1;34m'user'\u001b[0m\u001b[1;33m:\u001b[0m\u001b[1;34m'tag_count_TF'\u001b[0m\u001b[1;33m}\u001b[0m\u001b[1;33m)\u001b[0m\u001b[1;33m[\u001b[0m\u001b[1;33m[\u001b[0m\u001b[1;34m'movieId'\u001b[0m\u001b[1;33m,\u001b[0m\u001b[1;34m'tag'\u001b[0m\u001b[1;33m,\u001b[0m\u001b[1;34m'tag_count_TF'\u001b[0m\u001b[1;33m]\u001b[0m\u001b[1;33m]\u001b[0m\u001b[1;33m\u001b[0m\u001b[0m\n\u001b[0m\u001b[0;32m      3\u001b[0m \u001b[0mTag_distinct\u001b[0m \u001b[1;33m=\u001b[0m \u001b[0mTags\u001b[0m\u001b[1;33m[\u001b[0m\u001b[1;33m[\u001b[0m\u001b[1;34m'tag'\u001b[0m\u001b[1;33m,\u001b[0m\u001b[1;34m'movieId'\u001b[0m\u001b[1;33m]\u001b[0m\u001b[1;33m]\u001b[0m\u001b[1;33m.\u001b[0m\u001b[0mdrop_duplicates\u001b[0m\u001b[1;33m(\u001b[0m\u001b[1;33m)\u001b[0m\u001b[1;33m\u001b[0m\u001b[0m\n\u001b[0;32m      4\u001b[0m \u001b[0mDF\u001b[0m \u001b[1;33m=\u001b[0m\u001b[0mTag_distinct\u001b[0m\u001b[1;33m.\u001b[0m\u001b[0mgroupby\u001b[0m\u001b[1;33m(\u001b[0m\u001b[1;33m[\u001b[0m\u001b[1;34m'tag'\u001b[0m\u001b[1;33m]\u001b[0m\u001b[1;33m,\u001b[0m \u001b[0mas_index\u001b[0m \u001b[1;33m=\u001b[0m \u001b[0mFalse\u001b[0m\u001b[1;33m,\u001b[0m \u001b[0msort\u001b[0m \u001b[1;33m=\u001b[0m \u001b[0mFalse\u001b[0m\u001b[1;33m)\u001b[0m\u001b[1;33m.\u001b[0m\u001b[0mcount\u001b[0m\u001b[1;33m(\u001b[0m\u001b[1;33m)\u001b[0m\u001b[1;33m.\u001b[0m\u001b[0mrename\u001b[0m\u001b[1;33m(\u001b[0m\u001b[0mcolumns\u001b[0m \u001b[1;33m=\u001b[0m \u001b[1;33m{\u001b[0m\u001b[1;34m'movieId'\u001b[0m\u001b[1;33m:\u001b[0m \u001b[1;34m'tag_count_DF'\u001b[0m\u001b[1;33m}\u001b[0m\u001b[1;33m)\u001b[0m\u001b[1;33m[\u001b[0m\u001b[1;33m[\u001b[0m\u001b[1;34m'tag'\u001b[0m\u001b[1;33m,\u001b[0m\u001b[1;34m'tag_count_DF'\u001b[0m\u001b[1;33m]\u001b[0m\u001b[1;33m]\u001b[0m\u001b[1;33m\u001b[0m\u001b[0m\n\u001b[0;32m      5\u001b[0m \u001b[0ma\u001b[0m\u001b[1;33m=\u001b[0m\u001b[0mmath\u001b[0m\u001b[1;33m.\u001b[0m\u001b[0mlog10\u001b[0m\u001b[1;33m(\u001b[0m\u001b[0mlen\u001b[0m\u001b[1;33m(\u001b[0m\u001b[0mnp\u001b[0m\u001b[1;33m.\u001b[0m\u001b[0munique\u001b[0m\u001b[1;33m(\u001b[0m\u001b[0mTags\u001b[0m\u001b[1;33m[\u001b[0m\u001b[1;34m'movieId'\u001b[0m\u001b[1;33m]\u001b[0m\u001b[1;33m)\u001b[0m\u001b[1;33m)\u001b[0m\u001b[1;33m)\u001b[0m\u001b[1;33m\u001b[0m\u001b[0m\n",
      "\u001b[1;32mC:\\Users\\Mayank\\Anaconda3\\lib\\site-packages\\pandas\\core\\frame.pyc\u001b[0m in \u001b[0;36m__getitem__\u001b[1;34m(self, key)\u001b[0m\n\u001b[0;32m   2680\u001b[0m         \u001b[1;32mif\u001b[0m \u001b[0misinstance\u001b[0m\u001b[1;33m(\u001b[0m\u001b[0mkey\u001b[0m\u001b[1;33m,\u001b[0m \u001b[1;33m(\u001b[0m\u001b[0mSeries\u001b[0m\u001b[1;33m,\u001b[0m \u001b[0mnp\u001b[0m\u001b[1;33m.\u001b[0m\u001b[0mndarray\u001b[0m\u001b[1;33m,\u001b[0m \u001b[0mIndex\u001b[0m\u001b[1;33m,\u001b[0m \u001b[0mlist\u001b[0m\u001b[1;33m)\u001b[0m\u001b[1;33m)\u001b[0m\u001b[1;33m:\u001b[0m\u001b[1;33m\u001b[0m\u001b[0m\n\u001b[0;32m   2681\u001b[0m             \u001b[1;31m# either boolean or fancy integer index\u001b[0m\u001b[1;33m\u001b[0m\u001b[1;33m\u001b[0m\u001b[0m\n\u001b[1;32m-> 2682\u001b[1;33m             \u001b[1;32mreturn\u001b[0m \u001b[0mself\u001b[0m\u001b[1;33m.\u001b[0m\u001b[0m_getitem_array\u001b[0m\u001b[1;33m(\u001b[0m\u001b[0mkey\u001b[0m\u001b[1;33m)\u001b[0m\u001b[1;33m\u001b[0m\u001b[0m\n\u001b[0m\u001b[0;32m   2683\u001b[0m         \u001b[1;32melif\u001b[0m \u001b[0misinstance\u001b[0m\u001b[1;33m(\u001b[0m\u001b[0mkey\u001b[0m\u001b[1;33m,\u001b[0m \u001b[0mDataFrame\u001b[0m\u001b[1;33m)\u001b[0m\u001b[1;33m:\u001b[0m\u001b[1;33m\u001b[0m\u001b[0m\n\u001b[0;32m   2684\u001b[0m             \u001b[1;32mreturn\u001b[0m \u001b[0mself\u001b[0m\u001b[1;33m.\u001b[0m\u001b[0m_getitem_frame\u001b[0m\u001b[1;33m(\u001b[0m\u001b[0mkey\u001b[0m\u001b[1;33m)\u001b[0m\u001b[1;33m\u001b[0m\u001b[0m\n",
      "\u001b[1;32mC:\\Users\\Mayank\\Anaconda3\\lib\\site-packages\\pandas\\core\\frame.pyc\u001b[0m in \u001b[0;36m_getitem_array\u001b[1;34m(self, key)\u001b[0m\n\u001b[0;32m   2724\u001b[0m             \u001b[1;32mreturn\u001b[0m \u001b[0mself\u001b[0m\u001b[1;33m.\u001b[0m\u001b[0m_take\u001b[0m\u001b[1;33m(\u001b[0m\u001b[0mindexer\u001b[0m\u001b[1;33m,\u001b[0m \u001b[0maxis\u001b[0m\u001b[1;33m=\u001b[0m\u001b[1;36m0\u001b[0m\u001b[1;33m)\u001b[0m\u001b[1;33m\u001b[0m\u001b[0m\n\u001b[0;32m   2725\u001b[0m         \u001b[1;32melse\u001b[0m\u001b[1;33m:\u001b[0m\u001b[1;33m\u001b[0m\u001b[0m\n\u001b[1;32m-> 2726\u001b[1;33m             \u001b[0mindexer\u001b[0m \u001b[1;33m=\u001b[0m \u001b[0mself\u001b[0m\u001b[1;33m.\u001b[0m\u001b[0mloc\u001b[0m\u001b[1;33m.\u001b[0m\u001b[0m_convert_to_indexer\u001b[0m\u001b[1;33m(\u001b[0m\u001b[0mkey\u001b[0m\u001b[1;33m,\u001b[0m \u001b[0maxis\u001b[0m\u001b[1;33m=\u001b[0m\u001b[1;36m1\u001b[0m\u001b[1;33m)\u001b[0m\u001b[1;33m\u001b[0m\u001b[0m\n\u001b[0m\u001b[0;32m   2727\u001b[0m             \u001b[1;32mreturn\u001b[0m \u001b[0mself\u001b[0m\u001b[1;33m.\u001b[0m\u001b[0m_take\u001b[0m\u001b[1;33m(\u001b[0m\u001b[0mindexer\u001b[0m\u001b[1;33m,\u001b[0m \u001b[0maxis\u001b[0m\u001b[1;33m=\u001b[0m\u001b[1;36m1\u001b[0m\u001b[1;33m)\u001b[0m\u001b[1;33m\u001b[0m\u001b[0m\n\u001b[0;32m   2728\u001b[0m \u001b[1;33m\u001b[0m\u001b[0m\n",
      "\u001b[1;32mC:\\Users\\Mayank\\Anaconda3\\lib\\site-packages\\pandas\\core\\indexing.pyc\u001b[0m in \u001b[0;36m_convert_to_indexer\u001b[1;34m(self, obj, axis, is_setter)\u001b[0m\n\u001b[0;32m   1325\u001b[0m                 \u001b[1;32mif\u001b[0m \u001b[0mmask\u001b[0m\u001b[1;33m.\u001b[0m\u001b[0many\u001b[0m\u001b[1;33m(\u001b[0m\u001b[1;33m)\u001b[0m\u001b[1;33m:\u001b[0m\u001b[1;33m\u001b[0m\u001b[0m\n\u001b[0;32m   1326\u001b[0m                     raise KeyError('{mask} not in index'\n\u001b[1;32m-> 1327\u001b[1;33m                                    .format(mask=objarr[mask]))\n\u001b[0m\u001b[0;32m   1328\u001b[0m \u001b[1;33m\u001b[0m\u001b[0m\n\u001b[0;32m   1329\u001b[0m                 \u001b[1;32mreturn\u001b[0m \u001b[0mcom\u001b[0m\u001b[1;33m.\u001b[0m\u001b[0m_values_from_object\u001b[0m\u001b[1;33m(\u001b[0m\u001b[0mindexer\u001b[0m\u001b[1;33m)\u001b[0m\u001b[1;33m\u001b[0m\u001b[0m\n",
      "\u001b[1;31mKeyError\u001b[0m: \"['tag_count_TF'] not in index\""
     ]
    }
   ],
   "source": [
    "# term frequency and inverse document frequency and tf-idf value\n",
    "TF= Tags.groupby(['movieId','tag'],as_index=False,sort=False).count().rename(columns={'user':'tag_count_TF'})[['movieId','tag','tag_count_TF']]\n",
    "Tag_distinct = Tags[['tag','movieId']].drop_duplicates()\n",
    "DF =Tag_distinct.groupby(['tag'], as_index = False, sort = False).count().rename(columns = {'movieId': 'tag_count_DF'})[['tag','tag_count_DF']]\n",
    "a=math.log10(len(np.unique(Tags['movieId'])))\n",
    "DF['IDF']=a-np.log10(DF['tag_count_DF'])\n",
    "TF = pd.merge(TF,DF,on = 'tag', how = 'left', sort = False)\n",
    "TF['TF-IDF']=TF['tag_count_TF']*TF['IDF']"
   ]
  },
  {
   "cell_type": "code",
   "execution_count": 11,
   "metadata": {},
   "outputs": [
    {
     "ename": "NameError",
     "evalue": "name 'TF' is not defined",
     "output_type": "error",
     "traceback": [
      "\u001b[1;31m---------------------------------------------------------------------------\u001b[0m",
      "\u001b[1;31mNameError\u001b[0m                                 Traceback (most recent call last)",
      "\u001b[1;32m<ipython-input-11-9edc22d2f428>\u001b[0m in \u001b[0;36m<module>\u001b[1;34m()\u001b[0m\n\u001b[0;32m      1\u001b[0m \u001b[1;31m# unit vector for tf-idf\u001b[0m\u001b[1;33m\u001b[0m\u001b[1;33m\u001b[0m\u001b[0m\n\u001b[1;32m----> 2\u001b[1;33m \u001b[0mVect_len\u001b[0m\u001b[1;33m=\u001b[0m\u001b[0mTF\u001b[0m\u001b[1;33m[\u001b[0m\u001b[1;33m[\u001b[0m\u001b[1;34m'movieId'\u001b[0m\u001b[1;33m,\u001b[0m\u001b[1;34m'TF-IDF'\u001b[0m\u001b[1;33m]\u001b[0m\u001b[1;33m]\u001b[0m\u001b[1;33m\u001b[0m\u001b[0m\n\u001b[0m\u001b[0;32m      3\u001b[0m \u001b[0mVect_len\u001b[0m\u001b[1;33m[\u001b[0m\u001b[1;34m'TF-IDF-Sq'\u001b[0m\u001b[1;33m]\u001b[0m\u001b[1;33m=\u001b[0m\u001b[0mVect_len\u001b[0m\u001b[1;33m[\u001b[0m\u001b[1;34m'TF-IDF'\u001b[0m\u001b[1;33m]\u001b[0m\u001b[1;33m**\u001b[0m\u001b[1;36m2\u001b[0m\u001b[1;33m\u001b[0m\u001b[0m\n\u001b[0;32m      4\u001b[0m \u001b[0mVect_len\u001b[0m \u001b[1;33m=\u001b[0m\u001b[0mVect_len\u001b[0m\u001b[1;33m.\u001b[0m\u001b[0mgroupby\u001b[0m\u001b[1;33m(\u001b[0m\u001b[1;33m[\u001b[0m\u001b[1;34m'movieId'\u001b[0m\u001b[1;33m]\u001b[0m\u001b[1;33m,\u001b[0m \u001b[0mas_index\u001b[0m \u001b[1;33m=\u001b[0m \u001b[0mFalse\u001b[0m\u001b[1;33m,\u001b[0m \u001b[0msort\u001b[0m \u001b[1;33m=\u001b[0m \u001b[0mFalse\u001b[0m\u001b[1;33m)\u001b[0m\u001b[1;33m.\u001b[0m\u001b[0msum\u001b[0m\u001b[1;33m(\u001b[0m\u001b[1;33m)\u001b[0m\u001b[1;33m.\u001b[0m\u001b[0mrename\u001b[0m\u001b[1;33m(\u001b[0m\u001b[0mcolumns\u001b[0m \u001b[1;33m=\u001b[0m \u001b[1;33m{\u001b[0m\u001b[1;34m'TF-IDF-Sq'\u001b[0m\u001b[1;33m:\u001b[0m \u001b[1;34m'TF-IDF-Sq-sum'\u001b[0m\u001b[1;33m}\u001b[0m\u001b[1;33m)\u001b[0m\u001b[1;33m[\u001b[0m\u001b[1;33m[\u001b[0m\u001b[1;34m'movieId'\u001b[0m\u001b[1;33m,\u001b[0m\u001b[1;34m'TF-IDF-Sq-sum'\u001b[0m\u001b[1;33m]\u001b[0m\u001b[1;33m]\u001b[0m\u001b[1;33m\u001b[0m\u001b[0m\n\u001b[0;32m      5\u001b[0m \u001b[0mVect_len\u001b[0m\u001b[1;33m[\u001b[0m\u001b[1;34m'vect_len'\u001b[0m\u001b[1;33m]\u001b[0m \u001b[1;33m=\u001b[0m \u001b[0mnp\u001b[0m\u001b[1;33m.\u001b[0m\u001b[0msqrt\u001b[0m\u001b[1;33m(\u001b[0m\u001b[0mVect_len\u001b[0m\u001b[1;33m[\u001b[0m\u001b[1;33m[\u001b[0m\u001b[1;34m'TF-IDF-Sq-sum'\u001b[0m\u001b[1;33m]\u001b[0m\u001b[1;33m]\u001b[0m\u001b[1;33m.\u001b[0m\u001b[0msum\u001b[0m\u001b[1;33m(\u001b[0m\u001b[0maxis\u001b[0m\u001b[1;33m=\u001b[0m\u001b[1;36m1\u001b[0m\u001b[1;33m)\u001b[0m\u001b[1;33m)\u001b[0m\u001b[1;33m\u001b[0m\u001b[0m\n",
      "\u001b[1;31mNameError\u001b[0m: name 'TF' is not defined"
     ]
    }
   ],
   "source": [
    "# unit vector for tf-idf\n",
    "Vect_len=TF[['movieId','TF-IDF']]\n",
    "Vect_len['TF-IDF-Sq']=Vect_len['TF-IDF']**2\n",
    "Vect_len =Vect_len.groupby(['movieId'], as_index = False, sort = False).sum().rename(columns = {'TF-IDF-Sq': 'TF-IDF-Sq-sum'})[['movieId','TF-IDF-Sq-sum']]\n",
    "Vect_len['vect_len'] = np.sqrt(Vect_len[['TF-IDF-Sq-sum']].sum(axis=1))\n",
    "TF = pd.merge(TF,Vect_len,on = 'movieId', how = 'left', sort = False)\n",
    "TF['TAG_WT']=TF['TF-IDF']/TF['vect_len']"
   ]
  },
  {
   "cell_type": "code",
   "execution_count": 12,
   "metadata": {},
   "outputs": [
    {
     "ename": "SyntaxError",
     "evalue": "invalid syntax (<ipython-input-12-99294662cd28>, line 2)",
     "output_type": "error",
     "traceback": [
      "\u001b[1;36m  File \u001b[1;32m\"<ipython-input-12-99294662cd28>\"\u001b[1;36m, line \u001b[1;32m2\u001b[0m\n\u001b[1;33m    Ratings_filter=Ratings[Ratings[‘rating’]>=3.5]\u001b[0m\n\u001b[1;37m                                   ^\u001b[0m\n\u001b[1;31mSyntaxError\u001b[0m\u001b[1;31m:\u001b[0m invalid syntax\n"
     ]
    }
   ],
   "source": [
    "#user profile positively with >3.5\n",
    "Ratings_filter=Ratings[Ratings[‘rating’]>=3.5]\n",
    "distinct_users=np.unique(Ratings[‘userId’])\n",
    "user_tag_pref=pd.DataFrame()\n",
    "i=1\n",
    "for user in distinct_users[1:2]:\n",
    " \n",
    " if i%30==0:\n",
    " print “user: “, i , “out of: “, len(distinct_users)\n",
    " \n",
    " user_data= Ratings_filter[Ratings_filter[‘userId’]==user]\n",
    " user_data = pd.merge(TF,user_data,on = ‘movieId’, how = ‘inner’, sort = False)\n",
    "\n",
    " user_data1 = user_data.groupby([‘tag’], as_index = False, sort = False).sum().rename(columns = {‘TAG_WT’: ‘tag_pref’})[[‘tag’,’tag_pref’]]\n",
    " user_data1[‘user’]=user\n",
    " user_tag_pref = user_tag_pref.append(user_data1, ignore_index=True)\n",
    " i=i+1"
   ]
  },
  {
   "cell_type": "code",
   "execution_count": 13,
   "metadata": {},
   "outputs": [
    {
     "ename": "SyntaxError",
     "evalue": "invalid syntax (<ipython-input-13-932c499975b0>, line 1)",
     "output_type": "error",
     "traceback": [
      "\u001b[1;36m  File \u001b[1;32m\"<ipython-input-13-932c499975b0>\"\u001b[1;36m, line \u001b[1;32m1\u001b[0m\n\u001b[1;33m    distinct_users=np.unique(Ratings_filter[‘userId’])\u001b[0m\n\u001b[1;37m                                            ^\u001b[0m\n\u001b[1;31mSyntaxError\u001b[0m\u001b[1;31m:\u001b[0m invalid syntax\n"
     ]
    }
   ],
   "source": [
    "distinct_users=np.unique(Ratings_filter[‘userId’])\n",
    "tag_merge_all=pd.DataFrame()\n",
    "i=1\n",
    "for user in distinct_users[1:2]:\n",
    " \n",
    " user_tag_pref_all= user_tag_pref[user_tag_pref[‘user’]==user]\n",
    " distinct_movies = np.unique(TF[‘movieId’])\n",
    " j=1\n",
    " for movie in distinct_movies:\n",
    " \n",
    " if j%300==0:\n",
    " \n",
    " print (“movie: “, j , “out of: “, len(distinct_movies) , “with user: “, i , “out of: “, len(distinct_users))\n",
    "    \n",
    " TF_Movie= TF[TF[‘movieId’]==movie]\n",
    " tag_merge = pd.merge(TF_Movie,user_tag_pref_all,on = ‘tag’, how = ‘left’, sort = False)\n",
    " tag_merge[‘tag_pref’]=tag_merge[‘tag_pref’].fillna(0)\n",
    " tag_merge[‘tag_value’]=tag_merge[‘TAG_WT’]*tag_merge[‘tag_pref’]\n",
    " \n",
    " TAG_WT_val=np.sqrt(np.sum(np.square(tag_merge[‘TAG_WT’]), axis=0))\n",
    " tag_pref_val=np.sqrt(np.sum(np.square(user_tag_pref_all[‘tag_pref’]), axis=0))\n",
    " \n",
    " tag_merge_final = tag_merge.groupby([‘user’,’movieId’])[[‘tag_value’]].sum().rename(columns = {‘tag_value’: ‘Rating’}).reset_index()\n",
    " \n",
    " tag_merge_final[‘Rating’]=tag_merge_final[‘Rating’]/(TAG_WT_val*tag_pref_val)\n",
    "\n",
    " tag_merge_all = tag_merge_all.append(tag_merge_final, ignore_index=True)\n",
    " j=j+1\n",
    " i=i+1\n",
    "tag_merge_all=tag_merge_all.sort_index(by=[‘user’,’Rating’]).reset_index()\n",
    "\n"
   ]
  },
  {
   "cell_type": "code",
   "execution_count": 14,
   "metadata": {},
   "outputs": [
    {
     "ename": "SyntaxError",
     "evalue": "invalid syntax (<ipython-input-14-ed2026a94e33>, line 3)",
     "output_type": "error",
     "traceback": [
      "\u001b[1;36m  File \u001b[1;32m\"<ipython-input-14-ed2026a94e33>\"\u001b[1;36m, line \u001b[1;32m3\u001b[0m\n\u001b[1;33m    distinct_users=np.unique(Ratings[‘userId’])\u001b[0m\n\u001b[1;37m                                     ^\u001b[0m\n\u001b[1;31mSyntaxError\u001b[0m\u001b[1;31m:\u001b[0m invalid syntax\n"
     ]
    }
   ],
   "source": [
    "#calculate weight sum based on users rating\n",
    "\n",
    "distinct_users=np.unique(Ratings[‘userId’])\n",
    "user_tag_pref=pd.DataFrame()\n",
    "i=1\n",
    "for user in distinct_users[1:2]:\n",
    " \n",
    " if i%30==0:\n",
    " print “user: “, i , “out of: “, len(distinct_users)\n",
    " \n",
    " user_data= Ratings[Ratings[‘userId’]==user]\n",
    " user_data[‘weight’]=user_data[“rating”]-user_data[“rating”].drop_duplicates().mean()\n",
    " user_data1 = pd.merge(TF,user_data,on = ‘movieId’, how = ‘inner’, sort = False)\n",
    " user_data1[‘TAG_WT_WTD’] = user_data1[‘TAG_WT’]*user_data1[‘weight’]\n",
    " user_data2 = user_data1.groupby([‘tag’], as_index = False, sort = False).sum().rename(columns = {‘TAG_WT_WTD’: ‘tag_pref’})[[‘tag’,’tag_pref’]]\n",
    " user_data2[‘user’]=user\n",
    " user_tag_pref = user_tag_pref.append(user_data2, ignore_index=True)\n",
    " i=i+1\n"
   ]
  },
  {
   "cell_type": "code",
   "execution_count": null,
   "metadata": {},
   "outputs": [],
   "source": [
    "#calculate cosine relation between vectors\n",
    "\n",
    "distinct_users=np.unique(Ratings[‘userId’])\n",
    "tag_merge_all=pd.DataFrame()\n",
    "i=1\n",
    "for user in distinct_users[1:2]:\n",
    " \n",
    " user_tag_pref_all= user_tag_pref[user_tag_pref[‘user’]==user]\n",
    " distinct_movies = np.unique(TF[‘movieId’])\n",
    " j=1\n",
    " for movie in distinct_movies:\n",
    " \n",
    " if j%300==0:\n",
    " \n",
    " print “movie: “, j , “out of: “, len(distinct_movies) , “with user: “, i , “out of: “, len(distinct_users)\n",
    " \n",
    " TF_Movie= TF[TF[‘movieId’]==movie]\n",
    " tag_merge = pd.merge(TF_Movie,user_tag_pref_all,on = ‘tag’, how = ‘left’, sort = False)\n",
    " tag_merge[‘tag_pref’]=tag_merge[‘tag_pref’].fillna(0)\n",
    " tag_merge[‘tag_value’]=tag_merge[‘TAG_WT’]*tag_merge[‘tag_pref’]\n",
    "TAG_WT_val=np.sqrt(np.sum(np.square(tag_merge[‘TAG_WT’]), axis=0))\n",
    " tag_pref_val=np.sqrt(np.sum(np.square(user_tag_pref_all[‘tag_pref’]), axis=0))\n",
    " \n",
    " tag_merge_final = tag_merge.groupby([‘user’,’movieId’])[[‘tag_value’]].sum().rename(columns = {‘tag_value’: ‘Rating’}).reset_index()\n",
    " \n",
    " tag_merge_final[‘Rating’]=tag_merge_final[‘Rating’]/(TAG_WT_val*tag_pref_val)\n",
    " \n",
    " tag_merge_all = tag_merge_all.append(tag_merge_final, ignore_index=True)\n",
    " j=j+1\n",
    " i=i+1\n",
    "tag_merge_all=tag_merge_all.sort_index(by=[‘user’,’Rating’]).reset_index()\n",
    " "
   ]
  }
 ],
 "metadata": {
  "kernelspec": {
   "display_name": "Python 2",
   "language": "python",
   "name": "python2"
  },
  "language_info": {
   "codemirror_mode": {
    "name": "ipython",
    "version": 2
   },
   "file_extension": ".py",
   "mimetype": "text/x-python",
   "name": "python",
   "nbconvert_exporter": "python",
   "pygments_lexer": "ipython2",
   "version": "2.7.15"
  }
 },
 "nbformat": 4,
 "nbformat_minor": 2
}
